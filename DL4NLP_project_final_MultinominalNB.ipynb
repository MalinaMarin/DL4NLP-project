{
  "cells": [
    {
      "cell_type": "code",
      "source": [
        "import pandas as pd\n",
        "training_df = pd.read_csv('./input_data/final_training_set_v2.csv')\n",
        "validation_df = pd.read_csv('./input_data/final_validation_set_v2.csv')"
      ],
      "metadata": {
        "id": "WQ7-4d19sZ00"
      },
      "id": "WQ7-4d19sZ00",
      "execution_count": null,
      "outputs": []
    },
    {
      "cell_type": "code",
      "source": [
        "training_df"
      ],
      "metadata": {
        "colab": {
          "base_uri": "https://localhost:8080/",
          "height": 424
        },
        "id": "Ec7Xyru63op9",
        "outputId": "a38c2c71-b7e5-454f-f152-3731f8d0523b"
      },
      "id": "Ec7Xyru63op9",
      "execution_count": null,
      "outputs": [
        {
          "output_type": "execute_result",
          "data": {
            "text/plain": [
              "                                                    text  \\\n",
              "0      சுற்றத்தை கெடுத்து gay ahh வாழ்வதை விட  அடுத்த...   \n",
              "1           ટ્રાન્સજેન્ડરો સમાજના મૂલ્યોનો અનાદર કરે છે.   \n",
              "2        તમે ટ્રાન્સજેન્ડર છો? તમને શાને કરવામાં આવે છે?   \n",
              "3                పెళ్లిపై ఆమిర్‌కు సల్మాన్ గట్టి కౌంటర్!   \n",
              "4      તેમની જાતિ કેવી રીતે તેમની જેન્ડર ઓળખને પ્રભાવ...   \n",
              "...                                                  ...   \n",
              "75031  Rajeswari Rajagopalan Sister Last week when I ...   \n",
              "75032  તમે ટ્રાન્સજેન્ડર છો એટલે તમને અસલી માણસ તરીકે...   \n",
              "75033  Venkat Raman போடா மெண்டல்  9 துங்ககிட்ட நீ அசி...   \n",
              "75034  இது வரவேற்கத்தக்க தீர்ப்பு ஏனென்றால் தன்பாலின ...   \n",
              "75035  રસ્તા પર અચાનક નાચવા લાગી ટીવી એકટ્રેસ, 6 લાખ ...   \n",
              "\n",
              "                       labels  \n",
              "0                  Homophobia  \n",
              "1                 Transphobia  \n",
              "2                 Transphobia  \n",
              "3      Non-anti-LGBT+ content  \n",
              "4                 Transphobia  \n",
              "...                       ...  \n",
              "75031             Transphobia  \n",
              "75032             Transphobia  \n",
              "75033             Transphobia  \n",
              "75034  Non-anti-LGBT+ content  \n",
              "75035  Non-anti-LGBT+ content  \n",
              "\n",
              "[75036 rows x 2 columns]"
            ],
            "text/html": [
              "\n",
              "  <div id=\"df-cc928804-be73-42eb-8747-5c3a46b5ff92\" class=\"colab-df-container\">\n",
              "    <div>\n",
              "<style scoped>\n",
              "    .dataframe tbody tr th:only-of-type {\n",
              "        vertical-align: middle;\n",
              "    }\n",
              "\n",
              "    .dataframe tbody tr th {\n",
              "        vertical-align: top;\n",
              "    }\n",
              "\n",
              "    .dataframe thead th {\n",
              "        text-align: right;\n",
              "    }\n",
              "</style>\n",
              "<table border=\"1\" class=\"dataframe\">\n",
              "  <thead>\n",
              "    <tr style=\"text-align: right;\">\n",
              "      <th></th>\n",
              "      <th>text</th>\n",
              "      <th>labels</th>\n",
              "    </tr>\n",
              "  </thead>\n",
              "  <tbody>\n",
              "    <tr>\n",
              "      <th>0</th>\n",
              "      <td>சுற்றத்தை கெடுத்து gay ahh வாழ்வதை விட  அடுத்த...</td>\n",
              "      <td>Homophobia</td>\n",
              "    </tr>\n",
              "    <tr>\n",
              "      <th>1</th>\n",
              "      <td>ટ્રાન્સજેન્ડરો સમાજના મૂલ્યોનો અનાદર કરે છે.</td>\n",
              "      <td>Transphobia</td>\n",
              "    </tr>\n",
              "    <tr>\n",
              "      <th>2</th>\n",
              "      <td>તમે ટ્રાન્સજેન્ડર છો? તમને શાને કરવામાં આવે છે?</td>\n",
              "      <td>Transphobia</td>\n",
              "    </tr>\n",
              "    <tr>\n",
              "      <th>3</th>\n",
              "      <td>పెళ్లిపై ఆమిర్‌కు సల్మాన్ గట్టి కౌంటర్!</td>\n",
              "      <td>Non-anti-LGBT+ content</td>\n",
              "    </tr>\n",
              "    <tr>\n",
              "      <th>4</th>\n",
              "      <td>તેમની જાતિ કેવી રીતે તેમની જેન્ડર ઓળખને પ્રભાવ...</td>\n",
              "      <td>Transphobia</td>\n",
              "    </tr>\n",
              "    <tr>\n",
              "      <th>...</th>\n",
              "      <td>...</td>\n",
              "      <td>...</td>\n",
              "    </tr>\n",
              "    <tr>\n",
              "      <th>75031</th>\n",
              "      <td>Rajeswari Rajagopalan Sister Last week when I ...</td>\n",
              "      <td>Transphobia</td>\n",
              "    </tr>\n",
              "    <tr>\n",
              "      <th>75032</th>\n",
              "      <td>તમે ટ્રાન્સજેન્ડર છો એટલે તમને અસલી માણસ તરીકે...</td>\n",
              "      <td>Transphobia</td>\n",
              "    </tr>\n",
              "    <tr>\n",
              "      <th>75033</th>\n",
              "      <td>Venkat Raman போடா மெண்டல்  9 துங்ககிட்ட நீ அசி...</td>\n",
              "      <td>Transphobia</td>\n",
              "    </tr>\n",
              "    <tr>\n",
              "      <th>75034</th>\n",
              "      <td>இது வரவேற்கத்தக்க தீர்ப்பு ஏனென்றால் தன்பாலின ...</td>\n",
              "      <td>Non-anti-LGBT+ content</td>\n",
              "    </tr>\n",
              "    <tr>\n",
              "      <th>75035</th>\n",
              "      <td>રસ્તા પર અચાનક નાચવા લાગી ટીવી એકટ્રેસ, 6 લાખ ...</td>\n",
              "      <td>Non-anti-LGBT+ content</td>\n",
              "    </tr>\n",
              "  </tbody>\n",
              "</table>\n",
              "<p>75036 rows × 2 columns</p>\n",
              "</div>\n",
              "    <div class=\"colab-df-buttons\">\n",
              "\n",
              "  <div class=\"colab-df-container\">\n",
              "    <button class=\"colab-df-convert\" onclick=\"convertToInteractive('df-cc928804-be73-42eb-8747-5c3a46b5ff92')\"\n",
              "            title=\"Convert this dataframe to an interactive table.\"\n",
              "            style=\"display:none;\">\n",
              "\n",
              "  <svg xmlns=\"http://www.w3.org/2000/svg\" height=\"24px\" viewBox=\"0 -960 960 960\">\n",
              "    <path d=\"M120-120v-720h720v720H120Zm60-500h600v-160H180v160Zm220 220h160v-160H400v160Zm0 220h160v-160H400v160ZM180-400h160v-160H180v160Zm440 0h160v-160H620v160ZM180-180h160v-160H180v160Zm440 0h160v-160H620v160Z\"/>\n",
              "  </svg>\n",
              "    </button>\n",
              "\n",
              "  <style>\n",
              "    .colab-df-container {\n",
              "      display:flex;\n",
              "      gap: 12px;\n",
              "    }\n",
              "\n",
              "    .colab-df-convert {\n",
              "      background-color: #E8F0FE;\n",
              "      border: none;\n",
              "      border-radius: 50%;\n",
              "      cursor: pointer;\n",
              "      display: none;\n",
              "      fill: #1967D2;\n",
              "      height: 32px;\n",
              "      padding: 0 0 0 0;\n",
              "      width: 32px;\n",
              "    }\n",
              "\n",
              "    .colab-df-convert:hover {\n",
              "      background-color: #E2EBFA;\n",
              "      box-shadow: 0px 1px 2px rgba(60, 64, 67, 0.3), 0px 1px 3px 1px rgba(60, 64, 67, 0.15);\n",
              "      fill: #174EA6;\n",
              "    }\n",
              "\n",
              "    .colab-df-buttons div {\n",
              "      margin-bottom: 4px;\n",
              "    }\n",
              "\n",
              "    [theme=dark] .colab-df-convert {\n",
              "      background-color: #3B4455;\n",
              "      fill: #D2E3FC;\n",
              "    }\n",
              "\n",
              "    [theme=dark] .colab-df-convert:hover {\n",
              "      background-color: #434B5C;\n",
              "      box-shadow: 0px 1px 3px 1px rgba(0, 0, 0, 0.15);\n",
              "      filter: drop-shadow(0px 1px 2px rgba(0, 0, 0, 0.3));\n",
              "      fill: #FFFFFF;\n",
              "    }\n",
              "  </style>\n",
              "\n",
              "    <script>\n",
              "      const buttonEl =\n",
              "        document.querySelector('#df-cc928804-be73-42eb-8747-5c3a46b5ff92 button.colab-df-convert');\n",
              "      buttonEl.style.display =\n",
              "        google.colab.kernel.accessAllowed ? 'block' : 'none';\n",
              "\n",
              "      async function convertToInteractive(key) {\n",
              "        const element = document.querySelector('#df-cc928804-be73-42eb-8747-5c3a46b5ff92');\n",
              "        const dataTable =\n",
              "          await google.colab.kernel.invokeFunction('convertToInteractive',\n",
              "                                                    [key], {});\n",
              "        if (!dataTable) return;\n",
              "\n",
              "        const docLinkHtml = 'Like what you see? Visit the ' +\n",
              "          '<a target=\"_blank\" href=https://colab.research.google.com/notebooks/data_table.ipynb>data table notebook</a>'\n",
              "          + ' to learn more about interactive tables.';\n",
              "        element.innerHTML = '';\n",
              "        dataTable['output_type'] = 'display_data';\n",
              "        await google.colab.output.renderOutput(dataTable, element);\n",
              "        const docLink = document.createElement('div');\n",
              "        docLink.innerHTML = docLinkHtml;\n",
              "        element.appendChild(docLink);\n",
              "      }\n",
              "    </script>\n",
              "  </div>\n",
              "\n",
              "\n",
              "<div id=\"df-f68337ba-bd17-4b5d-91b3-2ed9d52714ab\">\n",
              "  <button class=\"colab-df-quickchart\" onclick=\"quickchart('df-f68337ba-bd17-4b5d-91b3-2ed9d52714ab')\"\n",
              "            title=\"Suggest charts\"\n",
              "            style=\"display:none;\">\n",
              "\n",
              "<svg xmlns=\"http://www.w3.org/2000/svg\" height=\"24px\"viewBox=\"0 0 24 24\"\n",
              "     width=\"24px\">\n",
              "    <g>\n",
              "        <path d=\"M19 3H5c-1.1 0-2 .9-2 2v14c0 1.1.9 2 2 2h14c1.1 0 2-.9 2-2V5c0-1.1-.9-2-2-2zM9 17H7v-7h2v7zm4 0h-2V7h2v10zm4 0h-2v-4h2v4z\"/>\n",
              "    </g>\n",
              "</svg>\n",
              "  </button>\n",
              "\n",
              "<style>\n",
              "  .colab-df-quickchart {\n",
              "      --bg-color: #E8F0FE;\n",
              "      --fill-color: #1967D2;\n",
              "      --hover-bg-color: #E2EBFA;\n",
              "      --hover-fill-color: #174EA6;\n",
              "      --disabled-fill-color: #AAA;\n",
              "      --disabled-bg-color: #DDD;\n",
              "  }\n",
              "\n",
              "  [theme=dark] .colab-df-quickchart {\n",
              "      --bg-color: #3B4455;\n",
              "      --fill-color: #D2E3FC;\n",
              "      --hover-bg-color: #434B5C;\n",
              "      --hover-fill-color: #FFFFFF;\n",
              "      --disabled-bg-color: #3B4455;\n",
              "      --disabled-fill-color: #666;\n",
              "  }\n",
              "\n",
              "  .colab-df-quickchart {\n",
              "    background-color: var(--bg-color);\n",
              "    border: none;\n",
              "    border-radius: 50%;\n",
              "    cursor: pointer;\n",
              "    display: none;\n",
              "    fill: var(--fill-color);\n",
              "    height: 32px;\n",
              "    padding: 0;\n",
              "    width: 32px;\n",
              "  }\n",
              "\n",
              "  .colab-df-quickchart:hover {\n",
              "    background-color: var(--hover-bg-color);\n",
              "    box-shadow: 0 1px 2px rgba(60, 64, 67, 0.3), 0 1px 3px 1px rgba(60, 64, 67, 0.15);\n",
              "    fill: var(--button-hover-fill-color);\n",
              "  }\n",
              "\n",
              "  .colab-df-quickchart-complete:disabled,\n",
              "  .colab-df-quickchart-complete:disabled:hover {\n",
              "    background-color: var(--disabled-bg-color);\n",
              "    fill: var(--disabled-fill-color);\n",
              "    box-shadow: none;\n",
              "  }\n",
              "\n",
              "  .colab-df-spinner {\n",
              "    border: 2px solid var(--fill-color);\n",
              "    border-color: transparent;\n",
              "    border-bottom-color: var(--fill-color);\n",
              "    animation:\n",
              "      spin 1s steps(1) infinite;\n",
              "  }\n",
              "\n",
              "  @keyframes spin {\n",
              "    0% {\n",
              "      border-color: transparent;\n",
              "      border-bottom-color: var(--fill-color);\n",
              "      border-left-color: var(--fill-color);\n",
              "    }\n",
              "    20% {\n",
              "      border-color: transparent;\n",
              "      border-left-color: var(--fill-color);\n",
              "      border-top-color: var(--fill-color);\n",
              "    }\n",
              "    30% {\n",
              "      border-color: transparent;\n",
              "      border-left-color: var(--fill-color);\n",
              "      border-top-color: var(--fill-color);\n",
              "      border-right-color: var(--fill-color);\n",
              "    }\n",
              "    40% {\n",
              "      border-color: transparent;\n",
              "      border-right-color: var(--fill-color);\n",
              "      border-top-color: var(--fill-color);\n",
              "    }\n",
              "    60% {\n",
              "      border-color: transparent;\n",
              "      border-right-color: var(--fill-color);\n",
              "    }\n",
              "    80% {\n",
              "      border-color: transparent;\n",
              "      border-right-color: var(--fill-color);\n",
              "      border-bottom-color: var(--fill-color);\n",
              "    }\n",
              "    90% {\n",
              "      border-color: transparent;\n",
              "      border-bottom-color: var(--fill-color);\n",
              "    }\n",
              "  }\n",
              "</style>\n",
              "\n",
              "  <script>\n",
              "    async function quickchart(key) {\n",
              "      const quickchartButtonEl =\n",
              "        document.querySelector('#' + key + ' button');\n",
              "      quickchartButtonEl.disabled = true;  // To prevent multiple clicks.\n",
              "      quickchartButtonEl.classList.add('colab-df-spinner');\n",
              "      try {\n",
              "        const charts = await google.colab.kernel.invokeFunction(\n",
              "            'suggestCharts', [key], {});\n",
              "      } catch (error) {\n",
              "        console.error('Error during call to suggestCharts:', error);\n",
              "      }\n",
              "      quickchartButtonEl.classList.remove('colab-df-spinner');\n",
              "      quickchartButtonEl.classList.add('colab-df-quickchart-complete');\n",
              "    }\n",
              "    (() => {\n",
              "      let quickchartButtonEl =\n",
              "        document.querySelector('#df-f68337ba-bd17-4b5d-91b3-2ed9d52714ab button');\n",
              "      quickchartButtonEl.style.display =\n",
              "        google.colab.kernel.accessAllowed ? 'block' : 'none';\n",
              "    })();\n",
              "  </script>\n",
              "</div>\n",
              "    </div>\n",
              "  </div>\n"
            ]
          },
          "metadata": {},
          "execution_count": 34
        }
      ]
    },
    {
      "cell_type": "code",
      "source": [
        "def pls(x):\n",
        "    if x == 'Homophobia':\n",
        "        return 0\n",
        "    if x == 'Transphobia':\n",
        "        return 1\n",
        "    return 2"
      ],
      "metadata": {
        "id": "GeX1nbn03tBL"
      },
      "id": "GeX1nbn03tBL",
      "execution_count": null,
      "outputs": []
    },
    {
      "cell_type": "code",
      "source": [
        "training_df['labels_nb'] = training_df['labels'].apply(lambda x: pls(x))"
      ],
      "metadata": {
        "id": "F6vnMYT73cjC"
      },
      "id": "F6vnMYT73cjC",
      "execution_count": null,
      "outputs": []
    },
    {
      "cell_type": "code",
      "source": [
        "validation_df['labels_nb'] = validation_df['labels'].apply(lambda x: pls(x))"
      ],
      "metadata": {
        "id": "7oX-R6SN4B-g"
      },
      "id": "7oX-R6SN4B-g",
      "execution_count": null,
      "outputs": []
    },
    {
      "cell_type": "code",
      "source": [
        "corpus_training = list(training_df['text'])"
      ],
      "metadata": {
        "id": "VxQYJO5y0EGG"
      },
      "id": "VxQYJO5y0EGG",
      "execution_count": null,
      "outputs": []
    },
    {
      "cell_type": "code",
      "source": [
        "from sklearn.feature_extraction.text import CountVectorizer\n",
        "count_vect = CountVectorizer()\n",
        "X_train_counts = count_vect.fit_transform(corpus_training)\n",
        "# X_train_counts.shape"
      ],
      "metadata": {
        "id": "pblMY_vix4O_"
      },
      "id": "pblMY_vix4O_",
      "execution_count": null,
      "outputs": []
    },
    {
      "cell_type": "code",
      "source": [
        "from sklearn.feature_extraction.text import TfidfTransformer\n",
        "tfidf_transformer = TfidfTransformer()\n",
        "X_train_tfidf = tfidf_transformer.fit_transform(X_train_counts)\n",
        "# X_train_tfidf.shape"
      ],
      "metadata": {
        "id": "DmxKf9Sv03FN"
      },
      "id": "DmxKf9Sv03FN",
      "execution_count": null,
      "outputs": []
    },
    {
      "cell_type": "code",
      "source": [
        "corpus_training_target = list(training_df['labels_nb'])"
      ],
      "metadata": {
        "id": "WOJhEGXV1Rey"
      },
      "id": "WOJhEGXV1Rey",
      "execution_count": null,
      "outputs": []
    },
    {
      "cell_type": "code",
      "source": [
        "from sklearn.naive_bayes import MultinomialNB\n",
        "clf = MultinomialNB().fit(X_train_tfidf, corpus_training_target)"
      ],
      "metadata": {
        "id": "VfbAr_QB1A7p"
      },
      "id": "VfbAr_QB1A7p",
      "execution_count": null,
      "outputs": []
    },
    {
      "cell_type": "code",
      "source": [
        "corpus_validation = list(validation_df['text'])\n",
        "corpus_validation_target = list(validation_df['labels_nb'])\n",
        "X_new_counts = count_vect.transform(corpus_validation)\n",
        "X_new_tfidf = tfidf_transformer.transform(X_new_counts)"
      ],
      "metadata": {
        "id": "_Or-7D9ez3pV"
      },
      "id": "_Or-7D9ez3pV",
      "execution_count": null,
      "outputs": []
    },
    {
      "cell_type": "code",
      "source": [
        "validation_df['predicted_classes'] = clf.predict(X_new_tfidf)"
      ],
      "metadata": {
        "id": "AhqYGh-Z4UUZ"
      },
      "id": "AhqYGh-Z4UUZ",
      "execution_count": null,
      "outputs": []
    },
    {
      "cell_type": "code",
      "source": [
        "corect_prediction = sum(validation_df['labels_nb'] == validation_df['predicted_classes'])"
      ],
      "metadata": {
        "id": "9xCWH1Io4kwY"
      },
      "id": "9xCWH1Io4kwY",
      "execution_count": null,
      "outputs": []
    },
    {
      "cell_type": "code",
      "source": [
        "corect_prediction / len(validation_df)"
      ],
      "metadata": {
        "colab": {
          "base_uri": "https://localhost:8080/"
        },
        "id": "SQ4vQg2X4xwg",
        "outputId": "860d2444-9dd8-4a1e-ef10-cc5ffdaa57af"
      },
      "id": "SQ4vQg2X4xwg",
      "execution_count": null,
      "outputs": [
        {
          "output_type": "execute_result",
          "data": {
            "text/plain": [
              "0.776796467282216"
            ]
          },
          "metadata": {},
          "execution_count": 60
        }
      ]
    },
    {
      "cell_type": "code",
      "source": [
        "from sklearn.metrics import f1_score\n",
        "f1_score(validation_df['labels_nb'], validation_df['predicted_classes'], average='macro')"
      ],
      "metadata": {
        "colab": {
          "base_uri": "https://localhost:8080/"
        },
        "id": "dJwMJEvM5O66",
        "outputId": "487e91c1-b8b1-4317-a1f6-ff67a118490f"
      },
      "id": "dJwMJEvM5O66",
      "execution_count": null,
      "outputs": [
        {
          "output_type": "execute_result",
          "data": {
            "text/plain": [
              "0.7648854398601016"
            ]
          },
          "metadata": {},
          "execution_count": 65
        }
      ]
    },
    {
      "cell_type": "code",
      "source": [
        "from os import listdir\n",
        "from os.path import isfile, join\n",
        "path_to_test = './input_data/test'\n",
        "onlyfiles = [f for f in listdir(path_to_test) if isfile(join(path_to_test, f))]"
      ],
      "metadata": {
        "id": "irSqYUh27BzO"
      },
      "id": "irSqYUh27BzO",
      "execution_count": null,
      "outputs": []
    },
    {
      "cell_type": "code",
      "source": [
        "onlyfiles = [f'./input_data/test/{file_name}' for file_name in onlyfiles]"
      ],
      "metadata": {
        "id": "oYLwTujI8Wc9"
      },
      "id": "oYLwTujI8Wc9",
      "execution_count": null,
      "outputs": []
    },
    {
      "cell_type": "code",
      "source": [
        "for file in onlyfiles:\n",
        "    test_df = pd.read_csv(file)\n",
        "    test_df = test_df.rename(columns=lambda x: x.strip())\n",
        "    print(file)\n",
        "    test_df['labels_nb'] = test_df['labels'].apply(lambda x: pls(x))\n",
        "    corpus_test = list(test_df['text'])\n",
        "    corpus_test_target = list(test_df['labels_nb'])\n",
        "    X_new_counts = count_vect.transform(corpus_test)\n",
        "    X_new_tfidf = tfidf_transformer.transform(X_new_counts)\n",
        "    predicted_classes = clf.predict(X_new_tfidf)\n",
        "    f1_result = f1_score(test_df['labels_nb'], predicted_classes, average='macro')\n",
        "\n",
        "    print(f'For {file}, f1: {f1_result}')"
      ],
      "metadata": {
        "colab": {
          "base_uri": "https://localhost:8080/"
        },
        "id": "mCKdXv2Q8gsp",
        "outputId": "303e84a5-78f4-4d84-c177-a6ebe7b63218"
      },
      "id": "mCKdXv2Q8gsp",
      "execution_count": null,
      "outputs": [
        {
          "output_type": "stream",
          "name": "stdout",
          "text": [
            "./input_data/test/homo_Kannada_test_1.csv\n",
            "For ./input_data/test/homo_Kannada_test_1.csv, f1: 0.8671771286862912\n",
            "./input_data/test/homo_Gujarati_test-2.csv\n",
            "For ./input_data/test/homo_Gujarati_test-2.csv, f1: 0.8698787062724117\n",
            "./input_data/test/homo_hin_3_test-1.csv\n",
            "For ./input_data/test/homo_hin_3_test-1.csv, f1: 0.30508474576271183\n",
            "./input_data/test/homo_Telugu_test-1.csv\n",
            "For ./input_data/test/homo_Telugu_test-1.csv, f1: 0.8156887952482061\n",
            "./input_data/test/Marathi_test-1.csv\n",
            "For ./input_data/test/Marathi_test-1.csv, f1: 0.4052133172420853\n",
            "./input_data/test/Homo_Spanish_test-1.csv\n",
            "For ./input_data/test/Homo_Spanish_test-1.csv, f1: 0.53542232955652\n",
            "./input_data/test/homo_tam_3_test-1.csv\n",
            "For ./input_data/test/homo_tam_3_test-1.csv, f1: 0.5709191412727319\n",
            "./input_data/test/homo_mal_3_test_1.csv\n",
            "For ./input_data/test/homo_mal_3_test_1.csv, f1: 0.5525332317236121\n",
            "./input_data/test/homo_eng_3_test-1.csv\n",
            "For ./input_data/test/homo_eng_3_test-1.csv, f1: 0.4553867595818815\n",
            "./input_data/test/Test_Tulu_with_label-1.csv\n",
            "For ./input_data/test/Test_Tulu_with_label-1.csv, f1: 0.31328671328671326\n"
          ]
        }
      ]
    },
    {
      "cell_type": "markdown",
      "source": [],
      "metadata": {
        "id": "L3nxaEuv0eLk"
      },
      "id": "L3nxaEuv0eLk"
    },
    {
      "cell_type": "code",
      "source": [
        "from google.colab import drive\n",
        "drive.mount('/content/drive')"
      ],
      "metadata": {
        "id": "eUA0H3XwrJFj"
      },
      "id": "eUA0H3XwrJFj",
      "execution_count": null,
      "outputs": []
    }
  ],
  "metadata": {
    "kernelspec": {
      "display_name": "Python 3",
      "name": "python3"
    },
    "language_info": {
      "codemirror_mode": {
        "name": "ipython",
        "version": 3
      },
      "file_extension": ".py",
      "mimetype": "text/x-python",
      "name": "python",
      "nbconvert_exporter": "python",
      "pygments_lexer": "ipython3",
      "version": "3.9.7"
    },
    "colab": {
      "provenance": [],
      "gpuType": "T4"
    },
    "accelerator": "GPU"
  },
  "nbformat": 4,
  "nbformat_minor": 5
}